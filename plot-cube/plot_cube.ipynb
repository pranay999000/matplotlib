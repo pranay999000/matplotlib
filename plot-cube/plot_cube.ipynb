{
  "nbformat": 4,
  "nbformat_minor": 0,
  "metadata": {
    "colab": {
      "name": "plot-cube.ipynb",
      "provenance": [],
      "collapsed_sections": []
    },
    "kernelspec": {
      "name": "python3",
      "display_name": "Python 3"
    },
    "language_info": {
      "name": "python"
    }
  },
  "cells": [
    {
      "cell_type": "code",
      "metadata": {
        "colab": {
          "base_uri": "https://localhost:8080/",
          "height": 330
        },
        "id": "6fqEMiRYjPIL",
        "outputId": "d7e378b3-0db8-4794-d24a-c4c138853397"
      },
      "source": [
        "#plot-cube\n",
        "\n",
        "import matplotlib.pyplot as plt\n",
        "import random\n",
        "  \n",
        "x = []\n",
        "for i in range (5):\n",
        "  x.append(random.randint(0, 5))\n",
        "\n",
        "print(x)\n",
        "\n",
        "y = []\n",
        "for j in x:\n",
        "  y.append(j ** 3)\n",
        "\n",
        "print(y)\n",
        "  \n",
        "plt.plot(x, y, 'ro')\n",
        "  \n",
        "plt.xlabel('x - axis')\n",
        "plt.ylabel('y - axis')\n",
        "  \n",
        "plt.title('Cube graph!')\n",
        "\n",
        "plt.show()"
      ],
      "execution_count": 1,
      "outputs": [
        {
          "output_type": "stream",
          "text": [
            "[5, 5, 5, 1, 0]\n",
            "[125, 125, 125, 1, 0]\n"
          ],
          "name": "stdout"
        },
        {
          "output_type": "display_data",
          "data": {
            "image/png": "[encoded data removed]",
            "text/plain": [
              "<Figure size 432x288 with 1 Axes>"
            ]
          },
          "metadata": {
            "tags": [],
            "needs_background": "light"
          }
        }
      ]
    }
  ]
}