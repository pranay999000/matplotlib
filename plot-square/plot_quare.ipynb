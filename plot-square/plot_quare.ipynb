{
  "nbformat": 4,
  "nbformat_minor": 0,
  "metadata": {
    "colab": {
      "name": "plot-quare.ipynb",
      "provenance": []
    },
    "kernelspec": {
      "name": "python3",
      "display_name": "Python 3"
    },
    "language_info": {
      "name": "python"
    }
  },
  "cells": [
    {
      "cell_type": "code",
      "metadata": {
        "colab": {
          "base_uri": "https://localhost:8080/",
          "height": 330
        },
        "id": "2CC1NNURcCpn",
        "outputId": "164c2446-abd7-49c2-b63d-1219fee4c0ac"
      },
      "source": [
        "#plot-square\n",
        "\n",
        "import matplotlib.pyplot as plt\n",
        "import random\n",
        "  \n",
        "x = []\n",
        "for i in range (5):\n",
        "  x.append(random.randint(0, 5))\n",
        "\n",
        "print(x)\n",
        "\n",
        "y = []\n",
        "for j in x:\n",
        "  y.append(j ** 2)\n",
        "\n",
        "print(y)\n",
        "  \n",
        "plt.plot(x, y, 'ro')\n",
        "  \n",
        "plt.xlabel('x - axis')\n",
        "plt.ylabel('y - axis')\n",
        "  \n",
        "plt.title('Square graph!')\n",
        "\n",
        "plt.show()"
      ],
      "execution_count": 21,
      "outputs": [
        {
          "output_type": "stream",
          "text": [
            "[3, 0, 0, 1, 4]\n",
            "[9, 0, 0, 1, 16]\n"
          ],
          "name": "stdout"
        },
        {
          "output_type": "display_data",
          "data": {
            "image/png": "[encoded data removed]",
            "text/plain": [
              "<Figure size 432x288 with 1 Axes>"
            ]
          },
          "metadata": {
            "tags": [],
            "needs_background": "light"
          }
        }
      ]
    }
  ]
}