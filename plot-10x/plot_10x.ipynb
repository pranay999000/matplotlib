{
  "nbformat": 4,
  "nbformat_minor": 0,
  "metadata": {
    "colab": {
      "name": "plot-10x.ipynb",
      "provenance": []
    },
    "kernelspec": {
      "name": "python3",
      "display_name": "Python 3"
    },
    "language_info": {
      "name": "python"
    }
  },
  "cells": [
    {
      "cell_type": "code",
      "metadata": {
        "colab": {
          "base_uri": "https://localhost:8080/",
          "height": 330
        },
        "id": "Hj5HkjNDkFe-",
        "outputId": "dc674a39-9375-4e57-e5ee-e74d4284ef41"
      },
      "source": [
        "#plot-10x\n",
        "\n",
        "import matplotlib.pyplot as plt\n",
        "import random\n",
        "  \n",
        "x = []\n",
        "for i in range (5):\n",
        "  x.append(random.randint(0, 5))\n",
        "\n",
        "print(x)\n",
        "\n",
        "y = []\n",
        "for j in x:\n",
        "  y.append(j * 10)\n",
        "\n",
        "print(y)\n",
        "  \n",
        "plt.plot(x, y, 'ro')\n",
        "  \n",
        "plt.xlabel('x - axis')\n",
        "plt.ylabel('y - axis')\n",
        "  \n",
        "plt.title('10x graph!')\n",
        "\n",
        "plt.show()"
      ],
      "execution_count": 1,
      "outputs": [
        {
          "output_type": "stream",
          "text": [
            "[2, 1, 4, 3, 1]\n",
            "[20, 10, 40, 30, 10]\n"
          ],
          "name": "stdout"
        },
        {
          "output_type": "display_data",
          "data": {
            "image/png": "[encoded data removed]",
            "text/plain": [
              "<Figure size 432x288 with 1 Axes>"
            ]
          },
          "metadata": {
            "tags": [],
            "needs_background": "light"
          }
        }
      ]
    }
  ]
}