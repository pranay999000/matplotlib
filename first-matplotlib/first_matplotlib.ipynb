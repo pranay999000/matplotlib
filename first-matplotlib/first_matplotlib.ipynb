{
  "nbformat": 4,
  "nbformat_minor": 0,
  "metadata": {
    "colab": {
      "name": "first-matplotlib.ipynb",
      "provenance": [],
      "authorship_tag": "ABX9TyPi8B/Uo1XtNlhLIjsNaZMM",
      "include_colab_link": true
    },
    "kernelspec": {
      "name": "python3",
      "display_name": "Python 3"
    },
    "language_info": {
      "name": "python"
    }
  },
  "cells": [
    {
      "cell_type": "markdown",
      "metadata": {
        "id": "view-in-github",
        "colab_type": "text"
      },
      "source": [
        "<a href=\"https://colab.research.google.com/github/pranay999000/matplotlib/blob/main/first_matplotlib.ipynb\" target=\"_parent\"><img src=\"https://colab.research.google.com/assets/colab-badge.svg\" alt=\"Open In Colab\"/></a>"
      ]
    },
    {
      "cell_type": "code",
      "metadata": {
        "colab": {
          "base_uri": "https://localhost:8080/",
          "height": 316
        },
        "id": "Ix_05j_s6hE6",
        "outputId": "499cbacf-97f2-418e-ce40-cb8ed8400938"
      },
      "source": [
        "import matplotlib.pyplot as plt\n",
        "from matplotlib.animation import FuncAnimation\n",
        "import matplotlib as mp\n",
        "import numpy as np\n",
        "import random\n",
        "\n",
        "plt.style.use('fivethirtyeight')\n",
        "\n",
        "n = int(input(\"enter array size\\n\"))\n",
        "a = [i for i in range(1, n+1)]\n",
        "random.shuffle(a)\n",
        "\n",
        "def insertionsort(a):\n",
        "\tfor j in range(1, len(a)):\n",
        "\t\tkey = a[j]\n",
        "\t\ti = j-1\n",
        "\n",
        "\t\twhile(i >= 0 and a[i] > key):\n",
        "\t\t\ta[i+1] = a[i]\n",
        "\t\t\ti -= 1\n",
        "\n",
        "\t\t\tyield a\n",
        "\t\ta[i+1] = key\n",
        "\t\tyield a\n",
        "\n",
        "generator = insertionsort(a)\n",
        "\n",
        "data_normalizer = mp.colors.Normalize()\n",
        "color_map = mp.colors.LinearSegmentedColormap(\n",
        "\t\"my_map\", {\n",
        "\t\t\"red\": [(0, 1.0, 1.0), (1.0, .5, .5)],\n",
        "\t\t\"green\": [(0, 0.5, 0.5), (1.0, 0, 0)],\n",
        "\t\t\"blue\": [(0, 0.50, 0.5), (1.0, 0, 0)]\n",
        "\t}\n",
        ")\n",
        "\n",
        "\n",
        "fig, ax = plt.subplots()\n",
        "\n",
        "rects = ax.bar(range(len(a)), a, align=\"edge\",\n",
        "\t\t\tcolor=color_map(data_normalizer(range(n))))\n",
        "\n",
        "ax.set_xlim(0, len(a))\n",
        "ax.set_ylim(0, int(1.1*len(a)))\n",
        "\n",
        "text = ax.text(0.01, 0.95, \"\", transform=ax.transAxes)\n",
        "iteration = [0]\n",
        "\n",
        "def animate(A, rects, iteration):\n",
        "\n",
        "\tfor rect, val in zip(rects, A):\n",
        "\t\trect.set_height(val)\n",
        "\n",
        "\titeration[0] += 1\n",
        "\ttext.set_text(\"iterations : {}\".format(iteration[0]))\n",
        "\n",
        "anim = FuncAnimation(\n",
        "    fig,\n",
        "    func=animate,\n",
        "    fargs=(rects, iteration), \n",
        "    frames=generator, \n",
        "    interval=50,\n",
        "    repeat=False\n",
        ")\n",
        "\n",
        "plt.show()\n"
      ],
      "execution_count": 24,
      "outputs": [
        {
          "output_type": "stream",
          "text": [
            "enter array size\n",
            "24\n"
          ],
          "name": "stdout"
        },
        {
          "output_type": "display_data",
          "data": {
            "image/png": "[encoded data removed]",
            "text/plain": [
              "<Figure size 432x288 with 1 Axes>"
            ]
          },
          "metadata": {
            "tags": []
          }
        }
      ]
    }
  ]
}